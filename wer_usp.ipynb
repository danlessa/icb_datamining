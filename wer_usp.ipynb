{
 "cells": [
  {
   "cell_type": "markdown",
   "metadata": {},
   "source": [
    "# weR_USP scraping"
   ]
  },
  {
   "cell_type": "code",
   "execution_count": 1,
   "metadata": {},
   "outputs": [],
   "source": [
    "## Dependences and definitions"
   ]
  },
  {
   "cell_type": "code",
   "execution_count": 2,
   "metadata": {},
   "outputs": [],
   "source": [
    "import requests as req\n",
    "import json\n",
    "import pandas as pd"
   ]
  },
  {
   "cell_type": "code",
   "execution_count": 3,
   "metadata": {},
   "outputs": [],
   "source": [
    "def load_URI_data(URI):\n",
    "    r = req.get(URI)\n",
    "    raw_data = r.content\n",
    "    loaded_json = json.loads(raw_data)\n",
    "    data = pd.DataFrame(loaded_json)\n",
    "    return data"
   ]
  },
  {
   "cell_type": "code",
   "execution_count": 4,
   "metadata": {},
   "outputs": [],
   "source": [
    "ano_inicial = 2014\n",
    "ano_final = 2019"
   ]
  },
  {
   "cell_type": "markdown",
   "metadata": {},
   "source": [
    "## URI testing"
   ]
  },
  {
   "cell_type": "code",
   "execution_count": 7,
   "metadata": {},
   "outputs": [],
   "source": [
    "base_URI = \"https://uspdigital.usp.br/datausp/servicos/publico\"\n",
    "URI_faculties = base_URI + \"/indicadores/unidadesComNumeroDocentes/1988/2019/en\"\n",
    "\n",
    "faculties_data = load_URI_data(URI_faculties)"
   ]
  },
  {
   "cell_type": "code",
   "execution_count": 8,
   "metadata": {},
   "outputs": [
    {
     "data": {
      "text/html": [
       "<div>\n",
       "<style scoped>\n",
       "    .dataframe tbody tr th:only-of-type {\n",
       "        vertical-align: middle;\n",
       "    }\n",
       "\n",
       "    .dataframe tbody tr th {\n",
       "        vertical-align: top;\n",
       "    }\n",
       "\n",
       "    .dataframe thead th {\n",
       "        text-align: right;\n",
       "    }\n",
       "</style>\n",
       "<table border=\"1\" class=\"dataframe\">\n",
       "  <thead>\n",
       "    <tr style=\"text-align: right;\">\n",
       "      <th></th>\n",
       "      <th>codigoProgramaPos</th>\n",
       "      <th>numeroAreas</th>\n",
       "      <th>percentualDocentesComLattes</th>\n",
       "      <th>percentualDocentesComOrcid</th>\n",
       "      <th>percentualDocentesComResID</th>\n",
       "      <th>percentualDocentesComScholar</th>\n",
       "      <th>percentualDocentesComScopus</th>\n",
       "      <th>programaPos</th>\n",
       "      <th>totalCredenciamentos</th>\n",
       "      <th>totalDocenteAposentadoCred</th>\n",
       "      <th>totalDocenteExternoCredenciado</th>\n",
       "      <th>totalDocenteInternoCredenciado</th>\n",
       "      <th>totalDocentesComLattes</th>\n",
       "      <th>totalDocentesComOrcid</th>\n",
       "      <th>totalDocentesComResID</th>\n",
       "      <th>totalDocentesComScholar</th>\n",
       "      <th>totalDocentesComScopus</th>\n",
       "      <th>totalDocentesCredenciados</th>\n",
       "    </tr>\n",
       "  </thead>\n",
       "  <tbody>\n",
       "    <tr>\n",
       "      <th>4</th>\n",
       "      <td>42002</td>\n",
       "      <td>0</td>\n",
       "      <td>100.0</td>\n",
       "      <td>55.55</td>\n",
       "      <td>94.44</td>\n",
       "      <td>94.44</td>\n",
       "      <td>100.0</td>\n",
       "      <td>Ciências Morfofuncionais</td>\n",
       "      <td>0</td>\n",
       "      <td>0</td>\n",
       "      <td>0</td>\n",
       "      <td>0</td>\n",
       "      <td>18</td>\n",
       "      <td>10</td>\n",
       "      <td>17</td>\n",
       "      <td>17</td>\n",
       "      <td>18</td>\n",
       "      <td>18</td>\n",
       "    </tr>\n",
       "  </tbody>\n",
       "</table>\n",
       "</div>"
      ],
      "text/plain": [
       "   codigoProgramaPos  numeroAreas  percentualDocentesComLattes  \\\n",
       "4              42002            0                        100.0   \n",
       "\n",
       "   percentualDocentesComOrcid  percentualDocentesComResID  \\\n",
       "4                       55.55                       94.44   \n",
       "\n",
       "   percentualDocentesComScholar  percentualDocentesComScopus  \\\n",
       "4                         94.44                        100.0   \n",
       "\n",
       "                programaPos  totalCredenciamentos  totalDocenteAposentadoCred  \\\n",
       "4  Ciências Morfofuncionais                     0                           0   \n",
       "\n",
       "   totalDocenteExternoCredenciado  totalDocenteInternoCredenciado  \\\n",
       "4                               0                               0   \n",
       "\n",
       "   totalDocentesComLattes  totalDocentesComOrcid  totalDocentesComResID  \\\n",
       "4                      18                     10                     17   \n",
       "\n",
       "   totalDocentesComScholar  totalDocentesComScopus  totalDocentesCredenciados  \n",
       "4                       17                      18                         18  "
      ]
     },
     "execution_count": 8,
     "metadata": {},
     "output_type": "execute_result"
    }
   ],
   "source": [
    "params = {\"codigo_instituto\": 42, \"ano_final\": ano_final, \"ano_inicial\": ano_inicial}\n",
    "URI_programs = (base_URI + \"/indicadores_pos/programas/{codigo_instituto}/{ano_inicial}/{ano_final}\"\n",
    "                            .format(**params))\n",
    "programs_data = load_URI_data(URI_programs)\n",
    "programs_data.sample(1)"
   ]
  },
  {
   "cell_type": "code",
   "execution_count": 9,
   "metadata": {},
   "outputs": [
    {
     "data": {
      "text/html": [
       "<div>\n",
       "<style scoped>\n",
       "    .dataframe tbody tr th:only-of-type {\n",
       "        vertical-align: middle;\n",
       "    }\n",
       "\n",
       "    .dataframe tbody tr th {\n",
       "        vertical-align: top;\n",
       "    }\n",
       "\n",
       "    .dataframe thead th {\n",
       "        text-align: right;\n",
       "    }\n",
       "</style>\n",
       "<table border=\"1\" class=\"dataframe\">\n",
       "  <thead>\n",
       "    <tr style=\"text-align: right;\">\n",
       "      <th></th>\n",
       "      <th>anoFimCredenciamento</th>\n",
       "      <th>anoInicioCredenciamento</th>\n",
       "      <th>areaProdutividade</th>\n",
       "      <th>bolsa</th>\n",
       "      <th>citacoesGoogleScholar</th>\n",
       "      <th>citacoesGoogleScholarPeriodo</th>\n",
       "      <th>citacoesScopus</th>\n",
       "      <th>citacoesScopusPeriodo</th>\n",
       "      <th>citacoesWos</th>\n",
       "      <th>citacoesWosPeriodo</th>\n",
       "      <th>...</th>\n",
       "      <th>totalEstratoA2</th>\n",
       "      <th>totalEstratoB1</th>\n",
       "      <th>totalEstratoB2</th>\n",
       "      <th>totalEstratoB3</th>\n",
       "      <th>totalEstratoB4</th>\n",
       "      <th>totalEstratoB5</th>\n",
       "      <th>totalEstratoC</th>\n",
       "      <th>totalMestrado</th>\n",
       "      <th>totalProdComColabInter</th>\n",
       "      <th>totalProducoes</th>\n",
       "    </tr>\n",
       "  </thead>\n",
       "  <tbody>\n",
       "    <tr>\n",
       "      <th>0</th>\n",
       "      <td>2020</td>\n",
       "      <td>2015</td>\n",
       "      <td>Metabolismo e Bioenergética</td>\n",
       "      <td>PQ-2</td>\n",
       "      <td>0</td>\n",
       "      <td>0</td>\n",
       "      <td>873</td>\n",
       "      <td>376</td>\n",
       "      <td>854</td>\n",
       "      <td>339</td>\n",
       "      <td>...</td>\n",
       "      <td>4</td>\n",
       "      <td>1</td>\n",
       "      <td>2</td>\n",
       "      <td>0</td>\n",
       "      <td>0</td>\n",
       "      <td>1</td>\n",
       "      <td>1</td>\n",
       "      <td>2</td>\n",
       "      <td>2</td>\n",
       "      <td>10</td>\n",
       "    </tr>\n",
       "  </tbody>\n",
       "</table>\n",
       "<p>1 rows × 37 columns</p>\n",
       "</div>"
      ],
      "text/plain": [
       "   anoFimCredenciamento  anoInicioCredenciamento            areaProdutividade  \\\n",
       "0                  2020                     2015  Metabolismo e Bioenergética   \n",
       "\n",
       "  bolsa citacoesGoogleScholar citacoesGoogleScholarPeriodo citacoesScopus  \\\n",
       "0  PQ-2                     0                            0            873   \n",
       "\n",
       "  citacoesScopusPeriodo citacoesWos citacoesWosPeriodo      ...        \\\n",
       "0                   376         854                339      ...         \n",
       "\n",
       "  totalEstratoA2  totalEstratoB1 totalEstratoB2 totalEstratoB3 totalEstratoB4  \\\n",
       "0              4               1              2              0              0   \n",
       "\n",
       "  totalEstratoB5 totalEstratoC totalMestrado totalProdComColabInter  \\\n",
       "0              1             1             2                      2   \n",
       "\n",
       "  totalProducoes  \n",
       "0             10  \n",
       "\n",
       "[1 rows x 37 columns]"
      ]
     },
     "execution_count": 9,
     "metadata": {},
     "output_type": "execute_result"
    }
   ],
   "source": [
    "params = {\"codigo_programa\": \"42003\", \"ano_final\": ano_final, \"ano_inicial\": ano_inicial}\n",
    "URI_program = (base_URI + \"/indicadores_pos/orientadores_credenciados_indicadores_pos/{codigo_programa}/{ano_inicial}/{ano_final}\"\n",
    "                          .format(**params))\n",
    "\n",
    "program_data = load_URI_data(URI_program)\n",
    "program_data.head(1)"
   ]
  },
  {
   "cell_type": "code",
   "execution_count": 10,
   "metadata": {},
   "outputs": [
    {
     "data": {
      "text/html": [
       "<div>\n",
       "<style scoped>\n",
       "    .dataframe tbody tr th:only-of-type {\n",
       "        vertical-align: middle;\n",
       "    }\n",
       "\n",
       "    .dataframe tbody tr th {\n",
       "        vertical-align: top;\n",
       "    }\n",
       "\n",
       "    .dataframe thead th {\n",
       "        text-align: right;\n",
       "    }\n",
       "</style>\n",
       "<table border=\"1\" class=\"dataframe\">\n",
       "  <thead>\n",
       "    <tr style=\"text-align: right;\">\n",
       "      <th></th>\n",
       "      <th>codset</th>\n",
       "      <th>codund</th>\n",
       "      <th>nomabvset</th>\n",
       "      <th>nomset</th>\n",
       "      <th>nomund</th>\n",
       "      <th>numdocset</th>\n",
       "      <th>numdocund</th>\n",
       "      <th>pordoclat</th>\n",
       "      <th>pordocorcid</th>\n",
       "      <th>pordocrid</th>\n",
       "      <th>pordocsch</th>\n",
       "      <th>pordocsco</th>\n",
       "      <th>psudepens</th>\n",
       "      <th>tipund</th>\n",
       "      <th>totdoclat</th>\n",
       "      <th>totdocorcid</th>\n",
       "      <th>totdocrid</th>\n",
       "      <th>totdocsch</th>\n",
       "      <th>totdocsco</th>\n",
       "    </tr>\n",
       "  </thead>\n",
       "  <tbody>\n",
       "    <tr>\n",
       "      <th>0</th>\n",
       "      <td>1522</td>\n",
       "      <td>None</td>\n",
       "      <td>BMA</td>\n",
       "      <td>Anatomy</td>\n",
       "      <td>None</td>\n",
       "      <td>23</td>\n",
       "      <td>None</td>\n",
       "      <td>100.0</td>\n",
       "      <td>52.17</td>\n",
       "      <td>73.91</td>\n",
       "      <td>91.3</td>\n",
       "      <td>91.3</td>\n",
       "      <td>False</td>\n",
       "      <td>None</td>\n",
       "      <td>23</td>\n",
       "      <td>12</td>\n",
       "      <td>17</td>\n",
       "      <td>21</td>\n",
       "      <td>21</td>\n",
       "    </tr>\n",
       "  </tbody>\n",
       "</table>\n",
       "</div>"
      ],
      "text/plain": [
       "   codset codund nomabvset   nomset nomund  numdocset numdocund  pordoclat  \\\n",
       "0    1522   None       BMA  Anatomy   None         23      None      100.0   \n",
       "\n",
       "   pordocorcid  pordocrid  pordocsch  pordocsco  psudepens tipund  totdoclat  \\\n",
       "0        52.17      73.91       91.3       91.3      False   None         23   \n",
       "\n",
       "   totdocorcid  totdocrid  totdocsch  totdocsco  \n",
       "0           12         17         21         21  "
      ]
     },
     "execution_count": 10,
     "metadata": {},
     "output_type": "execute_result"
    }
   ],
   "source": [
    "params = {\"codigo_instituto\": 42, \"ano_final\": ano_final, \"ano_inicial\": ano_inicial}\n",
    "URI_departments = (base_URI + \"/indicadores/departamentosComNumeroDocentes/{codigo_instituto}/{ano_inicial}/{ano_final}/en\"\n",
    "                               .format(**params))\n",
    "\n",
    "departments_data = load_URI_data(URI_departments)\n",
    "departments_data.sample(1)"
   ]
  },
  {
   "cell_type": "code",
   "execution_count": 11,
   "metadata": {},
   "outputs": [
    {
     "data": {
      "text/html": [
       "<div>\n",
       "<style scoped>\n",
       "    .dataframe tbody tr th:only-of-type {\n",
       "        vertical-align: middle;\n",
       "    }\n",
       "\n",
       "    .dataframe tbody tr th {\n",
       "        vertical-align: top;\n",
       "    }\n",
       "\n",
       "    .dataframe thead th {\n",
       "        text-align: right;\n",
       "    }\n",
       "</style>\n",
       "<table border=\"1\" class=\"dataframe\">\n",
       "  <thead>\n",
       "    <tr style=\"text-align: right;\">\n",
       "      <th></th>\n",
       "      <th>anoFimCredenciamento</th>\n",
       "      <th>anoInicioCredenciamento</th>\n",
       "      <th>areaProdutividade</th>\n",
       "      <th>bolsa</th>\n",
       "      <th>citacoesGoogleScholar</th>\n",
       "      <th>citacoesGoogleScholarPeriodo</th>\n",
       "      <th>citacoesScopus</th>\n",
       "      <th>citacoesScopusPeriodo</th>\n",
       "      <th>citacoesWos</th>\n",
       "      <th>citacoesWosPeriodo</th>\n",
       "      <th>...</th>\n",
       "      <th>totalEstratoA2</th>\n",
       "      <th>totalEstratoB1</th>\n",
       "      <th>totalEstratoB2</th>\n",
       "      <th>totalEstratoB3</th>\n",
       "      <th>totalEstratoB4</th>\n",
       "      <th>totalEstratoB5</th>\n",
       "      <th>totalEstratoC</th>\n",
       "      <th>totalMestrado</th>\n",
       "      <th>totalProdComColabInter</th>\n",
       "      <th>totalProducoes</th>\n",
       "    </tr>\n",
       "  </thead>\n",
       "  <tbody>\n",
       "    <tr>\n",
       "      <th>0</th>\n",
       "      <td>0</td>\n",
       "      <td>0</td>\n",
       "      <td>None</td>\n",
       "      <td>None</td>\n",
       "      <td>None</td>\n",
       "      <td>None</td>\n",
       "      <td>None</td>\n",
       "      <td>None</td>\n",
       "      <td>None</td>\n",
       "      <td>None</td>\n",
       "      <td>...</td>\n",
       "      <td>0</td>\n",
       "      <td>0</td>\n",
       "      <td>0</td>\n",
       "      <td>0</td>\n",
       "      <td>0</td>\n",
       "      <td>0</td>\n",
       "      <td>0</td>\n",
       "      <td>0</td>\n",
       "      <td>0</td>\n",
       "      <td>0</td>\n",
       "    </tr>\n",
       "  </tbody>\n",
       "</table>\n",
       "<p>1 rows × 37 columns</p>\n",
       "</div>"
      ],
      "text/plain": [
       "   anoFimCredenciamento  anoInicioCredenciamento areaProdutividade bolsa  \\\n",
       "0                     0                        0              None  None   \n",
       "\n",
       "  citacoesGoogleScholar citacoesGoogleScholarPeriodo citacoesScopus  \\\n",
       "0                  None                         None           None   \n",
       "\n",
       "  citacoesScopusPeriodo citacoesWos citacoesWosPeriodo      ...        \\\n",
       "0                  None        None               None      ...         \n",
       "\n",
       "  totalEstratoA2  totalEstratoB1 totalEstratoB2 totalEstratoB3 totalEstratoB4  \\\n",
       "0              0               0              0              0              0   \n",
       "\n",
       "  totalEstratoB5 totalEstratoC totalMestrado totalProdComColabInter  \\\n",
       "0              0             0             0                      0   \n",
       "\n",
       "  totalProducoes  \n",
       "0              0  \n",
       "\n",
       "[1 rows x 37 columns]"
      ]
     },
     "execution_count": 11,
     "metadata": {},
     "output_type": "execute_result"
    }
   ],
   "source": [
    "params = {\"codigo_departamento\": \"1522\", \"ano_final\": ano_final, \"ano_inicial\": ano_inicial}\n",
    "URI_department = (base_URI + \"/indicadores/docentes_do_departamento/{codigo_departamento}/{ano_inicial}/{ano_final}\"\n",
    "                          .format(**params))\n",
    "\n",
    "department_data = load_URI_data(URI_department)\n",
    "department_data.head(1)"
   ]
  },
  {
   "cell_type": "markdown",
   "metadata": {},
   "source": [
    "## Merge testing"
   ]
  },
  {
   "cell_type": "markdown",
   "metadata": {},
   "source": [
    "### Pt 1 - pos"
   ]
  },
  {
   "cell_type": "code",
   "execution_count": 12,
   "metadata": {},
   "outputs": [
    {
     "data": {
      "text/plain": [
       "Index(['anoFimCredenciamento', 'anoInicioCredenciamento', 'areaProdutividade',\n",
       "       'bolsa', 'citacoesGoogleScholar', 'citacoesGoogleScholarPeriodo',\n",
       "       'citacoesScopus', 'citacoesScopusPeriodo', 'citacoesWos',\n",
       "       'citacoesWosPeriodo', 'codpes', 'codpesOfuscado',\n",
       "       'documentoGoogleScholar', 'documentoScopus', 'documentoWoS', 'idLattes',\n",
       "       'idOrcid', 'idResearcherID', 'idScholar', 'idScopus',\n",
       "       'indicehGoogleScholar', 'indicehScopus', 'indicehWoS', 'nompes',\n",
       "       'totalComColabInterPerc', 'totalDoutorado', 'totalEstratoA1',\n",
       "       'totalEstratoA2', 'totalEstratoB1', 'totalEstratoB2', 'totalEstratoB3',\n",
       "       'totalEstratoB4', 'totalEstratoB5', 'totalEstratoC', 'totalMestrado',\n",
       "       'totalProdComColabInter', 'totalProducoes'],\n",
       "      dtype='object')"
      ]
     },
     "execution_count": 12,
     "metadata": {},
     "output_type": "execute_result"
    }
   ],
   "source": [
    "program_data.columns"
   ]
  },
  {
   "cell_type": "code",
   "execution_count": 13,
   "metadata": {},
   "outputs": [
    {
     "data": {
      "text/plain": [
       "Index(['codigoProgramaPos', 'numeroAreas', 'percentualDocentesComLattes',\n",
       "       'percentualDocentesComOrcid', 'percentualDocentesComResID',\n",
       "       'percentualDocentesComScholar', 'percentualDocentesComScopus',\n",
       "       'programaPos', 'totalCredenciamentos', 'totalDocenteAposentadoCred',\n",
       "       'totalDocenteExternoCredenciado', 'totalDocenteInternoCredenciado',\n",
       "       'totalDocentesComLattes', 'totalDocentesComOrcid',\n",
       "       'totalDocentesComResID', 'totalDocentesComScholar',\n",
       "       'totalDocentesComScopus', 'totalDocentesCredenciados'],\n",
       "      dtype='object')"
      ]
     },
     "execution_count": 13,
     "metadata": {},
     "output_type": "execute_result"
    }
   ],
   "source": [
    "programs_data.columns\n",
    "\n",
    "# os unicos que interessam é codigoProgramaPos e programaPos"
   ]
  },
  {
   "cell_type": "code",
   "execution_count": 14,
   "metadata": {},
   "outputs": [
    {
     "data": {
      "text/plain": [
       "'Biologia de Sistemas'"
      ]
     },
     "execution_count": 14,
     "metadata": {},
     "output_type": "execute_result"
    }
   ],
   "source": [
    "programs_data.set_index(\"codigoProgramaPos\").loc[42003, \"programaPos\"]"
   ]
  },
  {
   "cell_type": "code",
   "execution_count": 15,
   "metadata": {},
   "outputs": [
    {
     "ename": "KeyError",
     "evalue": "\"['codigoProgramaPos' 'programaPos'] not in index\"",
     "output_type": "error",
     "traceback": [
      "\u001b[0;31m---------------------------------------------------------------------------\u001b[0m",
      "\u001b[0;31mKeyError\u001b[0m                                  Traceback (most recent call last)",
      "\u001b[0;32m<ipython-input-15-7354d3c752d4>\u001b[0m in \u001b[0;36m<module>\u001b[0;34m\u001b[0m\n\u001b[0;32m----> 1\u001b[0;31m \u001b[0mprogram_data\u001b[0m\u001b[0;34m.\u001b[0m\u001b[0mloc\u001b[0m\u001b[0;34m[\u001b[0m\u001b[0;34m:\u001b[0m\u001b[0;34m,\u001b[0m \u001b[0;34m[\u001b[0m\u001b[0;34m\"codigoProgramaPos\"\u001b[0m\u001b[0;34m,\u001b[0m \u001b[0;34m\"programaPos\"\u001b[0m\u001b[0;34m]\u001b[0m\u001b[0;34m]\u001b[0m \u001b[0;34m=\u001b[0m \u001b[0mprograms_data\u001b[0m\u001b[0;34m.\u001b[0m\u001b[0miloc\u001b[0m\u001b[0;34m\u001b[0m\u001b[0;34m\u001b[0m\u001b[0m\n\u001b[0m",
      "\u001b[0;32m/usr/lib/python3/dist-packages/pandas/core/indexing.py\u001b[0m in \u001b[0;36m__setitem__\u001b[0;34m(self, key, value)\u001b[0m\n\u001b[1;32m    186\u001b[0m         \u001b[0;32melse\u001b[0m\u001b[0;34m:\u001b[0m\u001b[0;34m\u001b[0m\u001b[0;34m\u001b[0m\u001b[0m\n\u001b[1;32m    187\u001b[0m             \u001b[0mkey\u001b[0m \u001b[0;34m=\u001b[0m \u001b[0mcom\u001b[0m\u001b[0;34m.\u001b[0m\u001b[0m_apply_if_callable\u001b[0m\u001b[0;34m(\u001b[0m\u001b[0mkey\u001b[0m\u001b[0;34m,\u001b[0m \u001b[0mself\u001b[0m\u001b[0;34m.\u001b[0m\u001b[0mobj\u001b[0m\u001b[0;34m)\u001b[0m\u001b[0;34m\u001b[0m\u001b[0;34m\u001b[0m\u001b[0m\n\u001b[0;32m--> 188\u001b[0;31m         \u001b[0mindexer\u001b[0m \u001b[0;34m=\u001b[0m \u001b[0mself\u001b[0m\u001b[0;34m.\u001b[0m\u001b[0m_get_setitem_indexer\u001b[0m\u001b[0;34m(\u001b[0m\u001b[0mkey\u001b[0m\u001b[0;34m)\u001b[0m\u001b[0;34m\u001b[0m\u001b[0;34m\u001b[0m\u001b[0m\n\u001b[0m\u001b[1;32m    189\u001b[0m         \u001b[0mself\u001b[0m\u001b[0;34m.\u001b[0m\u001b[0m_setitem_with_indexer\u001b[0m\u001b[0;34m(\u001b[0m\u001b[0mindexer\u001b[0m\u001b[0;34m,\u001b[0m \u001b[0mvalue\u001b[0m\u001b[0;34m)\u001b[0m\u001b[0;34m\u001b[0m\u001b[0;34m\u001b[0m\u001b[0m\n\u001b[1;32m    190\u001b[0m \u001b[0;34m\u001b[0m\u001b[0m\n",
      "\u001b[0;32m/usr/lib/python3/dist-packages/pandas/core/indexing.py\u001b[0m in \u001b[0;36m_get_setitem_indexer\u001b[0;34m(self, key)\u001b[0m\n\u001b[1;32m    164\u001b[0m         \u001b[0;32mif\u001b[0m \u001b[0misinstance\u001b[0m\u001b[0;34m(\u001b[0m\u001b[0mkey\u001b[0m\u001b[0;34m,\u001b[0m \u001b[0mtuple\u001b[0m\u001b[0;34m)\u001b[0m\u001b[0;34m:\u001b[0m\u001b[0;34m\u001b[0m\u001b[0;34m\u001b[0m\u001b[0m\n\u001b[1;32m    165\u001b[0m             \u001b[0;32mtry\u001b[0m\u001b[0;34m:\u001b[0m\u001b[0;34m\u001b[0m\u001b[0;34m\u001b[0m\u001b[0m\n\u001b[0;32m--> 166\u001b[0;31m                 \u001b[0;32mreturn\u001b[0m \u001b[0mself\u001b[0m\u001b[0;34m.\u001b[0m\u001b[0m_convert_tuple\u001b[0m\u001b[0;34m(\u001b[0m\u001b[0mkey\u001b[0m\u001b[0;34m,\u001b[0m \u001b[0mis_setter\u001b[0m\u001b[0;34m=\u001b[0m\u001b[0;32mTrue\u001b[0m\u001b[0;34m)\u001b[0m\u001b[0;34m\u001b[0m\u001b[0;34m\u001b[0m\u001b[0m\n\u001b[0m\u001b[1;32m    167\u001b[0m             \u001b[0;32mexcept\u001b[0m \u001b[0mIndexingError\u001b[0m\u001b[0;34m:\u001b[0m\u001b[0;34m\u001b[0m\u001b[0;34m\u001b[0m\u001b[0m\n\u001b[1;32m    168\u001b[0m                 \u001b[0;32mpass\u001b[0m\u001b[0;34m\u001b[0m\u001b[0;34m\u001b[0m\u001b[0m\n",
      "\u001b[0;32m/usr/lib/python3/dist-packages/pandas/core/indexing.py\u001b[0m in \u001b[0;36m_convert_tuple\u001b[0;34m(self, key, is_setter)\u001b[0m\n\u001b[1;32m    245\u001b[0m                 \u001b[0;32mif\u001b[0m \u001b[0mi\u001b[0m \u001b[0;34m>=\u001b[0m \u001b[0mself\u001b[0m\u001b[0;34m.\u001b[0m\u001b[0mobj\u001b[0m\u001b[0;34m.\u001b[0m\u001b[0mndim\u001b[0m\u001b[0;34m:\u001b[0m\u001b[0;34m\u001b[0m\u001b[0;34m\u001b[0m\u001b[0m\n\u001b[1;32m    246\u001b[0m                     \u001b[0;32mraise\u001b[0m \u001b[0mIndexingError\u001b[0m\u001b[0;34m(\u001b[0m\u001b[0;34m'Too many indexers'\u001b[0m\u001b[0;34m)\u001b[0m\u001b[0;34m\u001b[0m\u001b[0;34m\u001b[0m\u001b[0m\n\u001b[0;32m--> 247\u001b[0;31m                 \u001b[0midx\u001b[0m \u001b[0;34m=\u001b[0m \u001b[0mself\u001b[0m\u001b[0;34m.\u001b[0m\u001b[0m_convert_to_indexer\u001b[0m\u001b[0;34m(\u001b[0m\u001b[0mk\u001b[0m\u001b[0;34m,\u001b[0m \u001b[0maxis\u001b[0m\u001b[0;34m=\u001b[0m\u001b[0mi\u001b[0m\u001b[0;34m,\u001b[0m \u001b[0mis_setter\u001b[0m\u001b[0;34m=\u001b[0m\u001b[0mis_setter\u001b[0m\u001b[0;34m)\u001b[0m\u001b[0;34m\u001b[0m\u001b[0;34m\u001b[0m\u001b[0m\n\u001b[0m\u001b[1;32m    248\u001b[0m                 \u001b[0mkeyidx\u001b[0m\u001b[0;34m.\u001b[0m\u001b[0mappend\u001b[0m\u001b[0;34m(\u001b[0m\u001b[0midx\u001b[0m\u001b[0;34m)\u001b[0m\u001b[0;34m\u001b[0m\u001b[0;34m\u001b[0m\u001b[0m\n\u001b[1;32m    249\u001b[0m         \u001b[0;32mreturn\u001b[0m \u001b[0mtuple\u001b[0m\u001b[0;34m(\u001b[0m\u001b[0mkeyidx\u001b[0m\u001b[0;34m)\u001b[0m\u001b[0;34m\u001b[0m\u001b[0;34m\u001b[0m\u001b[0m\n",
      "\u001b[0;32m/usr/lib/python3/dist-packages/pandas/core/indexing.py\u001b[0m in \u001b[0;36m_convert_to_indexer\u001b[0;34m(self, obj, axis, is_setter)\u001b[0m\n\u001b[1;32m   1325\u001b[0m                 \u001b[0;32mif\u001b[0m \u001b[0mmask\u001b[0m\u001b[0;34m.\u001b[0m\u001b[0many\u001b[0m\u001b[0;34m(\u001b[0m\u001b[0;34m)\u001b[0m\u001b[0;34m:\u001b[0m\u001b[0;34m\u001b[0m\u001b[0;34m\u001b[0m\u001b[0m\n\u001b[1;32m   1326\u001b[0m                     raise KeyError('{mask} not in index'\n\u001b[0;32m-> 1327\u001b[0;31m                                    .format(mask=objarr[mask]))\n\u001b[0m\u001b[1;32m   1328\u001b[0m \u001b[0;34m\u001b[0m\u001b[0m\n\u001b[1;32m   1329\u001b[0m                 \u001b[0;32mreturn\u001b[0m \u001b[0mcom\u001b[0m\u001b[0;34m.\u001b[0m\u001b[0m_values_from_object\u001b[0m\u001b[0;34m(\u001b[0m\u001b[0mindexer\u001b[0m\u001b[0;34m)\u001b[0m\u001b[0;34m\u001b[0m\u001b[0;34m\u001b[0m\u001b[0m\n",
      "\u001b[0;31mKeyError\u001b[0m: \"['codigoProgramaPos' 'programaPos'] not in index\""
     ]
    }
   ],
   "source": [
    "program_data.loc[:, [\"codigoProgramaPos\", \"programaPos\"]] = programs_data.iloc"
   ]
  },
  {
   "cell_type": "markdown",
   "metadata": {},
   "source": [
    "### Pt 2 - departamentos"
   ]
  },
  {
   "cell_type": "code",
   "execution_count": null,
   "metadata": {},
   "outputs": [],
   "source": [
    "departments_data.columns\n",
    "\n",
    "# interessa somente o nomset, nomabvset e codset"
   ]
  },
  {
   "cell_type": "code",
   "execution_count": null,
   "metadata": {},
   "outputs": [],
   "source": []
  },
  {
   "cell_type": "markdown",
   "metadata": {},
   "source": [
    "## Mining"
   ]
  },
  {
   "cell_type": "code",
   "execution_count": 19,
   "metadata": {},
   "outputs": [
    {
     "name": "stdout",
     "output_type": "stream",
     "text": [
      "42007   "
     ]
    }
   ],
   "source": [
    "# Dados dos programas de pós\n",
    "\n",
    "programs_data = load_URI_data(URI_programs).set_index(\"codigoProgramaPos\")\n",
    "\n",
    "output = []\n",
    "\n",
    "for codigo_programa in programs_data.index:\n",
    "    nome_programa = programs_data.loc[codigo_programa, \"programaPos\"]\n",
    "    \n",
    "    params = {\"codigo_programa\": codigo_programa, \"ano_final\": ano_final, \"ano_inicial\": ano_inicial}\n",
    "    URI_program = (base_URI + \"/indicadores_pos/orientadores_credenciados_indicadores_pos/{codigo_programa}/{ano_inicial}/{ano_final}\"\n",
    "                              .format(**params))\n",
    "\n",
    "    program_data = (load_URI_data(URI_program)\n",
    "                    .set_index(\"codpesOfuscado\")\n",
    "                    .assign(codigoProgramaPos=codigo_programa)\n",
    "                    .assign(programaPos=nome_programa))\n",
    "    \n",
    "    output.append(program_data)\n",
    "    print(\"\\r{}   \".format(codigo_programa), end=\"\")\n",
    "    \n",
    "doc_per_program_data = pd.concat(output)"
   ]
  },
  {
   "cell_type": "code",
   "execution_count": 20,
   "metadata": {},
   "outputs": [
    {
     "name": "stdout",
     "output_type": "stream",
     "text": [
      "1528   "
     ]
    }
   ],
   "source": [
    "# Dados dos departamentos\n",
    "\n",
    "departments_data = load_URI_data(URI_departments).set_index(\"codset\")\n",
    "\n",
    "output = []\n",
    "\n",
    "for codigo_departamento in departments_data.index:\n",
    "    info_depto = departments_data.loc[codigo_departamento, [\"nomabvset\", \"nomset\"]]\n",
    "    \n",
    "    params = {\"codigo_departamento\": codigo_departamento, \"ano_final\": ano_final, \"ano_inicial\": ano_inicial}\n",
    "    URI_department = (base_URI + \"/indicadores/docentes_do_departamento/{codigo_departamento}/{ano_inicial}/{ano_final}\"\n",
    "                              .format(**params))\n",
    "\n",
    "    department_data = (load_URI_data(URI_department)\n",
    "                       .set_index(\"codpesOfuscado\")\n",
    "                       .assign(codigoDepto=codigo_departamento)\n",
    "                       .assign(nomeDepto=info_depto[\"nomset\"])\n",
    "                       .assign(siglaDepto=info_depto[\"nomabvset\"]))\n",
    "    \n",
    "    output.append(department_data)\n",
    "    print(\"\\r{}   \".format(codigo_departamento), end=\"\")\n",
    "    \n",
    "doc_per_depto_data = pd.concat(output)"
   ]
  },
  {
   "cell_type": "markdown",
   "metadata": {},
   "source": [
    "## Exploração "
   ]
  },
  {
   "cell_type": "code",
   "execution_count": null,
   "metadata": {},
   "outputs": [],
   "source": [
    "doc_per_depto_data.shape"
   ]
  },
  {
   "cell_type": "code",
   "execution_count": null,
   "metadata": {},
   "outputs": [],
   "source": [
    "doc_per_program_data.shape"
   ]
  },
  {
   "cell_type": "code",
   "execution_count": null,
   "metadata": {},
   "outputs": [],
   "source": [
    "joined_data = doc_per_program_data.join(doc_per_depto_data, rsuffix=\"_grad\")"
   ]
  },
  {
   "cell_type": "code",
   "execution_count": null,
   "metadata": {},
   "outputs": [],
   "source": [
    "joined_data.shape"
   ]
  },
  {
   "cell_type": "code",
   "execution_count": null,
   "metadata": {},
   "outputs": [],
   "source": [
    "joined_data.describe().T"
   ]
  },
  {
   "cell_type": "code",
   "execution_count": null,
   "metadata": {},
   "outputs": [],
   "source": [
    "joined_data.columns"
   ]
  },
  {
   "cell_type": "code",
   "execution_count": 16,
   "metadata": {},
   "outputs": [
    {
     "ename": "NameError",
     "evalue": "name 'joined_data' is not defined",
     "output_type": "error",
     "traceback": [
      "\u001b[0;31m---------------------------------------------------------------------------\u001b[0m",
      "\u001b[0;31mNameError\u001b[0m                                 Traceback (most recent call last)",
      "\u001b[0;32m<ipython-input-16-d5b9811f2fbb>\u001b[0m in \u001b[0;36m<module>\u001b[0;34m\u001b[0m\n\u001b[1;32m      1\u001b[0m \u001b[0mcols\u001b[0m \u001b[0;34m=\u001b[0m \u001b[0;34m[\u001b[0m\u001b[0;34m\"nompes\"\u001b[0m\u001b[0;34m,\u001b[0m \u001b[0;34m\"programaPos\"\u001b[0m\u001b[0;34m,\u001b[0m \u001b[0;34m\"nomeDepto\"\u001b[0m\u001b[0;34m,\u001b[0m \u001b[0;34m\"citacoesGoogleScholar\"\u001b[0m\u001b[0;34m]\u001b[0m\u001b[0;34m\u001b[0m\u001b[0;34m\u001b[0m\u001b[0m\n\u001b[1;32m      2\u001b[0m \u001b[0;34m\u001b[0m\u001b[0m\n\u001b[0;32m----> 3\u001b[0;31m \u001b[0mclean_data\u001b[0m \u001b[0;34m=\u001b[0m \u001b[0mjoined_data\u001b[0m\u001b[0;34m.\u001b[0m\u001b[0mloc\u001b[0m\u001b[0;34m[\u001b[0m\u001b[0;34m:\u001b[0m\u001b[0;34m,\u001b[0m \u001b[0mcols\u001b[0m\u001b[0;34m]\u001b[0m\u001b[0;34m\u001b[0m\u001b[0;34m\u001b[0m\u001b[0m\n\u001b[0m",
      "\u001b[0;31mNameError\u001b[0m: name 'joined_data' is not defined"
     ]
    }
   ],
   "source": [
    "cols = [\"nompes\", \"programaPos\", \"nomeDepto\", \"citacoesGoogleScholar\"]\n",
    "\n",
    "clean_data = joined_data.loc[:, cols]"
   ]
  },
  {
   "cell_type": "code",
   "execution_count": 17,
   "metadata": {},
   "outputs": [
    {
     "ename": "NameError",
     "evalue": "name 'clean_data' is not defined",
     "output_type": "error",
     "traceback": [
      "\u001b[0;31m---------------------------------------------------------------------------\u001b[0m",
      "\u001b[0;31mNameError\u001b[0m                                 Traceback (most recent call last)",
      "\u001b[0;32m<ipython-input-17-d1ff7aba6862>\u001b[0m in \u001b[0;36m<module>\u001b[0;34m\u001b[0m\n\u001b[0;32m----> 1\u001b[0;31m \u001b[0mclean_data\u001b[0m\u001b[0;34m\u001b[0m\u001b[0;34m\u001b[0m\u001b[0m\n\u001b[0m",
      "\u001b[0;31mNameError\u001b[0m: name 'clean_data' is not defined"
     ]
    }
   ],
   "source": [
    "clean_data"
   ]
  },
  {
   "cell_type": "code",
   "execution_count": 18,
   "metadata": {},
   "outputs": [
    {
     "ename": "NameError",
     "evalue": "name 'joined_data' is not defined",
     "output_type": "error",
     "traceback": [
      "\u001b[0;31m---------------------------------------------------------------------------\u001b[0m",
      "\u001b[0;31mNameError\u001b[0m                                 Traceback (most recent call last)",
      "\u001b[0;32m<ipython-input-18-bc7f1f98c445>\u001b[0m in \u001b[0;36m<module>\u001b[0;34m\u001b[0m\n\u001b[0;32m----> 1\u001b[0;31m \u001b[0mjoined_data\u001b[0m\u001b[0;34m.\u001b[0m\u001b[0mto_csv\u001b[0m\u001b[0;34m(\u001b[0m\u001b[0;34m\"wer_usp.csv\"\u001b[0m\u001b[0;34m)\u001b[0m\u001b[0;34m\u001b[0m\u001b[0;34m\u001b[0m\u001b[0m\n\u001b[0m",
      "\u001b[0;31mNameError\u001b[0m: name 'joined_data' is not defined"
     ]
    }
   ],
   "source": [
    "joined_data.to_csv(\"wer_usp.csv\")"
   ]
  },
  {
   "cell_type": "code",
   "execution_count": null,
   "metadata": {},
   "outputs": [],
   "source": []
  }
 ],
 "metadata": {
  "kernelspec": {
   "display_name": "Python 3",
   "language": "python",
   "name": "python3"
  },
  "language_info": {
   "codemirror_mode": {
    "name": "ipython",
    "version": 3
   },
   "file_extension": ".py",
   "mimetype": "text/x-python",
   "name": "python",
   "nbconvert_exporter": "python",
   "pygments_lexer": "ipython3",
   "version": "3.6.8"
  }
 },
 "nbformat": 4,
 "nbformat_minor": 2
}
