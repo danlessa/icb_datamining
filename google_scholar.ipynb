{
 "cells": [
  {
   "cell_type": "code",
   "execution_count": 1,
   "metadata": {},
   "outputs": [],
   "source": [
    "from scopus import ScopusSearch\n",
    "import scopus\n",
    "import pandas as pd\n",
    "from pathlib import Path"
   ]
  },
  {
   "cell_type": "code",
   "execution_count": 2,
   "metadata": {},
   "outputs": [],
   "source": [
    "data_filepath = \"wer_usp.csv\""
   ]
  },
  {
   "cell_type": "code",
   "execution_count": 3,
   "metadata": {},
   "outputs": [],
   "source": [
    "data = pd.read_csv(data_filepath)"
   ]
  },
  {
   "cell_type": "code",
   "execution_count": 4,
   "metadata": {},
   "outputs": [],
   "source": [
    "ids_scopus = list(data.loc[:, [\"idScopus\"]].dropna().values.flatten())"
   ]
  },
  {
   "cell_type": "code",
   "execution_count": 7,
   "metadata": {},
   "outputs": [
    {
     "name": "stdout",
     "output_type": "stream",
     "text": [
      "36/213não informado\n",
      "58/213não informado\n",
      "não informado\n",
      "84/213não informado\n",
      "92/213não informado\n",
      "102/213não informado\n",
      "115/213não informado\n",
      "184/213não informado\n",
      "208/213não informado\n",
      "212/213"
     ]
    }
   ],
   "source": [
    "df_list = []\n",
    "\n",
    "\n",
    "for (i, id_scopus) in enumerate(ids_scopus):\n",
    "    try:\n",
    "        ss = ScopusSearch(\"AU-ID({})\".format(id_scopus))\n",
    "        output = ss.results\n",
    "        df = pd.DataFrame(output)\n",
    "        df_list.append(df)\n",
    "        print(\"\\r{}/{}\".format(i, len(ids_scopus)), end=\"\")\n",
    "    except:\n",
    "        print(id_scopus)"
   ]
  },
  {
   "cell_type": "code",
   "execution_count": 9,
   "metadata": {},
   "outputs": [],
   "source": [
    "final_output = pd.concat(df_list)"
   ]
  },
  {
   "cell_type": "code",
   "execution_count": 13,
   "metadata": {},
   "outputs": [],
   "source": [
    "final_output.to_excel(\"scopus.xls\")"
   ]
  },
  {
   "cell_type": "code",
   "execution_count": null,
   "metadata": {},
   "outputs": [],
   "source": []
  }
 ],
 "metadata": {
  "kernelspec": {
   "display_name": "Python 3",
   "language": "python",
   "name": "python3"
  },
  "language_info": {
   "codemirror_mode": {
    "name": "ipython",
    "version": 3
   },
   "file_extension": ".py",
   "mimetype": "text/x-python",
   "name": "python",
   "nbconvert_exporter": "python",
   "pygments_lexer": "ipython3",
   "version": "3.6.8"
  }
 },
 "nbformat": 4,
 "nbformat_minor": 2
}
